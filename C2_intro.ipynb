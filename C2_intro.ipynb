{
 "cells": [
  {
   "cell_type": "markdown",
   "metadata": {},
   "source": [
    "   #     Chapter 2 \n",
    "    "
   ]
  },
  {
   "cell_type": "code",
   "execution_count": 15,
   "metadata": {},
   "outputs": [],
   "source": [
    "from pyspark.sql import SparkSession\n",
    "spark = SparkSession.builder.appName(\"c2\").getOrCreate()"
   ]
  },
  {
   "cell_type": "code",
   "execution_count": 22,
   "metadata": {},
   "outputs": [
    {
     "data": {
      "text/plain": [
       "DataFrame[summary: string, DEST_COUNTRY_NAME: string, ORIGIN_COUNTRY_NAME: string, count: string]"
      ]
     },
     "execution_count": 22,
     "metadata": {},
     "output_type": "execute_result"
    }
   ],
   "source": [
    "df_flights = spark\\\n",
    ".read\\\n",
    ".option('inferSchema','true')\\\n",
    ".option('header','true')\\\n",
    ".csv('/root/golive/Spark-The-Definitive-Guide/data/flight-data/csv/2015-summary.csv')\n",
    "\n",
    "df_flights.describe()"
   ]
  },
  {
   "cell_type": "code",
   "execution_count": 33,
   "metadata": {},
   "outputs": [
    {
     "name": "stdout",
     "output_type": "stream",
     "text": [
      "== Physical Plan ==\n",
      "FileScan csv [DEST_COUNTRY_NAME#184,ORIGIN_COUNTRY_NAME#185,count#186] Batched: false, DataFilters: [], Format: CSV, Location: InMemoryFileIndex[file:/root/golive/Spark-The-Definitive-Guide/data/flight-data/csv/2015-summary...., PartitionFilters: [], PushedFilters: [], ReadSchema: struct<DEST_COUNTRY_NAME:string,ORIGIN_COUNTRY_NAME:string,count:int>\n",
      "\n",
      "\n"
     ]
    }
   ],
   "source": [
    "df_flights.explain()"
   ]
  },
  {
   "cell_type": "code",
   "execution_count": 23,
   "metadata": {},
   "outputs": [
    {
     "name": "stdout",
     "output_type": "stream",
     "text": [
      "== Physical Plan ==\n",
      "*(1) Sort [DEST_COUNTRY_NAME#184 ASC NULLS FIRST], true, 0\n",
      "+- Exchange rangepartitioning(DEST_COUNTRY_NAME#184 ASC NULLS FIRST, 200), true, [id=#204]\n",
      "   +- FileScan csv [DEST_COUNTRY_NAME#184,ORIGIN_COUNTRY_NAME#185,count#186] Batched: false, DataFilters: [], Format: CSV, Location: InMemoryFileIndex[file:/root/golive/Spark-The-Definitive-Guide/data/flight-data/csv/2015-summary...., PartitionFilters: [], PushedFilters: [], ReadSchema: struct<DEST_COUNTRY_NAME:string,ORIGIN_COUNTRY_NAME:string,count:int>\n",
      "\n",
      "\n"
     ]
    }
   ],
   "source": [
    "df_flights.sort('DEST_COUNTRY_NAME').explain()\n",
    "\n",
    "# Default Shuffle : 200 \n",
    "# +- Exchange rangepartitioning(DEST_COUNTRY_NAME#184 ASC NULLS FIRST, 200), true, [id=#204]"
   ]
  },
  {
   "cell_type": "code",
   "execution_count": 32,
   "metadata": {},
   "outputs": [
    {
     "name": "stdout",
     "output_type": "stream",
     "text": [
      "== Physical Plan ==\n",
      "*(1) Sort [ORIGIN_COUNTRY_NAME#185 ASC NULLS FIRST], true, 0\n",
      "+- Exchange rangepartitioning(ORIGIN_COUNTRY_NAME#185 ASC NULLS FIRST, 5), true, [id=#276]\n",
      "   +- FileScan csv [DEST_COUNTRY_NAME#184,ORIGIN_COUNTRY_NAME#185,count#186] Batched: false, DataFilters: [], Format: CSV, Location: InMemoryFileIndex[file:/root/golive/Spark-The-Definitive-Guide/data/flight-data/csv/2015-summary...., PartitionFilters: [], PushedFilters: [], ReadSchema: struct<DEST_COUNTRY_NAME:string,ORIGIN_COUNTRY_NAME:string,count:int>\n",
      "\n",
      "\n"
     ]
    }
   ],
   "source": [
    "spark.conf.set(\"spark.sql.shuffle.partitions\", \"5\")\n",
    "\n",
    "df_flights.sort('ORIGIN_COUNTRY_NAME').explain()"
   ]
  },
  {
   "cell_type": "code",
   "execution_count": 34,
   "metadata": {},
   "outputs": [
    {
     "name": "stdout",
     "output_type": "stream",
     "text": [
      "+-----------------+-------------------+-----+\n",
      "|DEST_COUNTRY_NAME|ORIGIN_COUNTRY_NAME|count|\n",
      "+-----------------+-------------------+-----+\n",
      "|    United States|            Romania|   15|\n",
      "|    United States|            Croatia|    1|\n",
      "|    United States|            Ireland|  344|\n",
      "|            Egypt|      United States|   15|\n",
      "|    United States|              India|   62|\n",
      "+-----------------+-------------------+-----+\n",
      "only showing top 5 rows\n",
      "\n"
     ]
    }
   ],
   "source": [
    "df_flights.show(5)"
   ]
  },
  {
   "cell_type": "code",
   "execution_count": 36,
   "metadata": {},
   "outputs": [
    {
     "data": {
      "text/plain": [
       "[Row(DEST_COUNTRY_NAME='United States', ORIGIN_COUNTRY_NAME='Romania', count=15),\n",
       " Row(DEST_COUNTRY_NAME='United States', ORIGIN_COUNTRY_NAME='Croatia', count=1),\n",
       " Row(DEST_COUNTRY_NAME='United States', ORIGIN_COUNTRY_NAME='Ireland', count=344),\n",
       " Row(DEST_COUNTRY_NAME='Egypt', ORIGIN_COUNTRY_NAME='United States', count=15),\n",
       " Row(DEST_COUNTRY_NAME='United States', ORIGIN_COUNTRY_NAME='India', count=62)]"
      ]
     },
     "execution_count": 36,
     "metadata": {},
     "output_type": "execute_result"
    }
   ],
   "source": [
    "df_flights.limit(5)\n",
    "df_flights.limit(5).collect()"
   ]
  },
  {
   "cell_type": "code",
   "execution_count": 37,
   "metadata": {},
   "outputs": [
    {
     "name": "stdout",
     "output_type": "stream",
     "text": [
      "== Physical Plan ==\n",
      "*(1) Sort [count#186 ASC NULLS FIRST], true, 0\n",
      "+- Exchange rangepartitioning(count#186 ASC NULLS FIRST, 5), true, [id=#309]\n",
      "   +- FileScan csv [DEST_COUNTRY_NAME#184,ORIGIN_COUNTRY_NAME#185,count#186] Batched: false, DataFilters: [], Format: CSV, Location: InMemoryFileIndex[file:/root/golive/Spark-The-Definitive-Guide/data/flight-data/csv/2015-summary...., PartitionFilters: [], PushedFilters: [], ReadSchema: struct<DEST_COUNTRY_NAME:string,ORIGIN_COUNTRY_NAME:string,count:int>\n",
      "\n",
      "\n"
     ]
    }
   ],
   "source": [
    "df_flights.sort('count').explain()"
   ]
  },
  {
   "cell_type": "code",
   "execution_count": 40,
   "metadata": {},
   "outputs": [
    {
     "name": "stdout",
     "output_type": "stream",
     "text": [
      "+-------------------+\n",
      "|ORIGIN_COUNTRY_NAME|\n",
      "+-------------------+\n",
      "|            Romania|\n",
      "|            Croatia|\n",
      "+-------------------+\n",
      "only showing top 2 rows\n",
      "\n",
      "+-------------------+\n",
      "|ORIGIN_COUNTRY_NAME|\n",
      "+-------------------+\n",
      "|            Romania|\n",
      "|            Croatia|\n",
      "+-------------------+\n",
      "only showing top 2 rows\n",
      "\n"
     ]
    }
   ],
   "source": [
    "from pyspark.sql.functions import col \n",
    "df_flights.select(col('ORIGIN_COUNTRY_NAME')).show(2)\n",
    "df_flights.select('ORIGIN_COUNTRY_NAME').show(2)"
   ]
  },
  {
   "cell_type": "code",
   "execution_count": 41,
   "metadata": {},
   "outputs": [
    {
     "name": "stdout",
     "output_type": "stream",
     "text": [
      "+-----------------+-------------------+-----+\n",
      "|DEST_COUNTRY_NAME|ORIGIN_COUNTRY_NAME|count|\n",
      "+-----------------+-------------------+-----+\n",
      "|    United States|            Romania|   15|\n",
      "|    United States|            Croatia|    1|\n",
      "|    United States|            Ireland|  344|\n",
      "+-----------------+-------------------+-----+\n",
      "only showing top 3 rows\n",
      "\n"
     ]
    }
   ],
   "source": [
    "df_flights.show(3)"
   ]
  },
  {
   "cell_type": "code",
   "execution_count": 42,
   "metadata": {},
   "outputs": [],
   "source": [
    "spark.conf.set(\"spark.sql.shuffle.partitions\",\"5\")"
   ]
  },
  {
   "cell_type": "code",
   "execution_count": 44,
   "metadata": {},
   "outputs": [],
   "source": [
    "df_flights.createOrReplaceTempView('flights_2015')"
   ]
  },
  {
   "cell_type": "code",
   "execution_count": 47,
   "metadata": {},
   "outputs": [
    {
     "data": {
      "text/plain": [
       "[Row(DEST_COUNTRY_NAME='Moldova', c=1),\n",
       " Row(DEST_COUNTRY_NAME='Bolivia', c=1),\n",
       " Row(DEST_COUNTRY_NAME='Algeria', c=1),\n",
       " Row(DEST_COUNTRY_NAME='Turks and Caicos Islands', c=1),\n",
       " Row(DEST_COUNTRY_NAME='Pakistan', c=1),\n",
       " Row(DEST_COUNTRY_NAME='Marshall Islands', c=1),\n",
       " Row(DEST_COUNTRY_NAME='Suriname', c=1),\n",
       " Row(DEST_COUNTRY_NAME='Panama', c=1),\n",
       " Row(DEST_COUNTRY_NAME='New Zealand', c=1),\n",
       " Row(DEST_COUNTRY_NAME='Liberia', c=1)]"
      ]
     },
     "execution_count": 47,
     "metadata": {},
     "output_type": "execute_result"
    }
   ],
   "source": [
    "v_sql = \"\"\"select DEST_COUNTRY_NAME , count(*) as c from flights_2015 group by DEST_COUNTRY_NAME  \"\"\"\n",
    "spark.sql(v_sql).take(10)\n"
   ]
  },
  {
   "cell_type": "code",
   "execution_count": 48,
   "metadata": {},
   "outputs": [
    {
     "name": "stdout",
     "output_type": "stream",
     "text": [
      "== Physical Plan ==\n",
      "*(2) HashAggregate(keys=[DEST_COUNTRY_NAME#184], functions=[count(1)])\n",
      "+- Exchange hashpartitioning(DEST_COUNTRY_NAME#184, 5), true, [id=#449]\n",
      "   +- *(1) HashAggregate(keys=[DEST_COUNTRY_NAME#184], functions=[partial_count(1)])\n",
      "      +- FileScan csv [DEST_COUNTRY_NAME#184] Batched: false, DataFilters: [], Format: CSV, Location: InMemoryFileIndex[file:/root/golive/Spark-The-Definitive-Guide/data/flight-data/csv/2015-summary...., PartitionFilters: [], PushedFilters: [], ReadSchema: struct<DEST_COUNTRY_NAME:string>\n",
      "\n",
      "\n"
     ]
    }
   ],
   "source": [
    "spark.sql(v_sql).explain()"
   ]
  },
  {
   "cell_type": "code",
   "execution_count": 43,
   "metadata": {},
   "outputs": [
    {
     "name": "stdout",
     "output_type": "stream",
     "text": [
      "== Physical Plan ==\n",
      "*(2) HashAggregate(keys=[DEST_COUNTRY_NAME#229], functions=[count(1)])\n",
      "+- Exchange hashpartitioning(DEST_COUNTRY_NAME#229, 5), true, [id=#450]\n",
      "   +- *(1) HashAggregate(keys=[DEST_COUNTRY_NAME#229], functions=[partial_count(1)])\n",
      "      +- FileScan csv [DEST_COUNTRY_NAME#229] Batched: false, DataFilters: [], Format: CSV, Location: InMemoryFileIndex[file:/root/golive/Spark-The-Definitive-Guide/data/flight-data/csv/2015-summary...., PartitionFilters: [], PushedFilters: [], ReadSchema: struct<DEST_COUNTRY_NAME:string>\n",
      "\n",
      "\n"
     ]
    }
   ],
   "source": [
    "df_flights.groupBy('DEST_COUNTRY_NAME')\\\n",
    ".count().explain()"
   ]
  },
  {
   "cell_type": "code",
   "execution_count": 49,
   "metadata": {},
   "outputs": [
    {
     "name": "stdout",
     "output_type": "stream",
     "text": [
      "== Physical Plan ==\n",
      "*(2) HashAggregate(keys=[], functions=[max(count#186)])\n",
      "+- Exchange SinglePartition, true, [id=#492]\n",
      "   +- *(1) HashAggregate(keys=[], functions=[partial_max(count#186)])\n",
      "      +- FileScan csv [count#186] Batched: false, DataFilters: [], Format: CSV, Location: InMemoryFileIndex[file:/root/golive/Spark-The-Definitive-Guide/data/flight-data/csv/2015-summary...., PartitionFilters: [], PushedFilters: [], ReadSchema: struct<count:int>\n",
      "\n",
      "\n"
     ]
    }
   ],
   "source": [
    "v_sql2 = \"select max(count) from flights_2015 \"\n",
    "spark.sql(v_sql2).take(1)\n",
    "\n",
    "spark.sql(v_sql2).explain()"
   ]
  },
  {
   "cell_type": "code",
   "execution_count": 50,
   "metadata": {},
   "outputs": [
    {
     "data": {
      "text/plain": [
       "[Row(max(count)=370002)]"
      ]
     },
     "execution_count": 50,
     "metadata": {},
     "output_type": "execute_result"
    }
   ],
   "source": [
    "from pyspark.sql.functions import max \n",
    "df_flights.select(max('count')).take(1)"
   ]
  },
  {
   "cell_type": "code",
   "execution_count": 54,
   "metadata": {},
   "outputs": [
    {
     "name": "stdout",
     "output_type": "stream",
     "text": [
      "+-----------------+------+\n",
      "|DEST_COUNTRY_NAME|    ss|\n",
      "+-----------------+------+\n",
      "|    United States|411352|\n",
      "|           Canada|  8399|\n",
      "|           Mexico|  7140|\n",
      "|   United Kingdom|  2025|\n",
      "|            Japan|  1548|\n",
      "+-----------------+------+\n",
      "\n"
     ]
    }
   ],
   "source": [
    "v_sql3 = \"select DEST_COUNTRY_NAME, sum(count) as ss from flights_2015 group by DEST_COUNTRY_NAME order by ss desc LIMIT 5  \"\n",
    "spark.sql(v_sql3).show()"
   ]
  },
  {
   "cell_type": "code",
   "execution_count": 53,
   "metadata": {},
   "outputs": [
    {
     "name": "stdout",
     "output_type": "stream",
     "text": [
      "+-----------------+------+\n",
      "|DEST_COUNTRY_NAME|    ss|\n",
      "+-----------------+------+\n",
      "|    United States|411352|\n",
      "|           Canada|  8399|\n",
      "|           Mexico|  7140|\n",
      "|   United Kingdom|  2025|\n",
      "|            Japan|  1548|\n",
      "+-----------------+------+\n",
      "\n"
     ]
    }
   ],
   "source": [
    "from pyspark.sql.functions import desc \n",
    "new_df = df_flights\\\n",
    ".groupBy('DEST_COUNTRY_NAME')\\\n",
    ".sum('count')\\\n",
    ".withColumnRenamed('sum(count)', 'ss')\\\n",
    ".sort(desc('ss'))\\\n",
    ".limit(5)\n",
    "\n",
    "\n",
    "new_df.show()"
   ]
  },
  {
   "cell_type": "code",
   "execution_count": 54,
   "metadata": {},
   "outputs": [
    {
     "name": "stdout",
     "output_type": "stream",
     "text": [
      "== Physical Plan ==\n",
      "TakeOrderedAndProject(limit=5, orderBy=[ss#539L DESC NULLS LAST], output=[DEST_COUNTRY_NAME#184,ss#539L])\n",
      "+- *(2) HashAggregate(keys=[DEST_COUNTRY_NAME#184], functions=[sum(cast(count#186 as bigint))])\n",
      "   +- Exchange hashpartitioning(DEST_COUNTRY_NAME#184, 5), true, [id=#591]\n",
      "      +- *(1) HashAggregate(keys=[DEST_COUNTRY_NAME#184], functions=[partial_sum(cast(count#186 as bigint))])\n",
      "         +- FileScan csv [DEST_COUNTRY_NAME#184,count#186] Batched: false, DataFilters: [], Format: CSV, Location: InMemoryFileIndex[file:/root/golive/Spark-The-Definitive-Guide/data/flight-data/csv/2015-summary...., PartitionFilters: [], PushedFilters: [], ReadSchema: struct<DEST_COUNTRY_NAME:string,count:int>\n",
      "\n",
      "\n"
     ]
    }
   ],
   "source": [
    "new_df.explain()"
   ]
  },
  {
   "cell_type": "code",
   "execution_count": null,
   "metadata": {},
   "outputs": [],
   "source": []
  }
 ],
 "metadata": {
  "kernelspec": {
   "display_name": "Python 3",
   "language": "python",
   "name": "python3"
  },
  "language_info": {
   "codemirror_mode": {
    "name": "ipython",
    "version": 3
   },
   "file_extension": ".py",
   "mimetype": "text/x-python",
   "name": "python",
   "nbconvert_exporter": "python",
   "pygments_lexer": "ipython3",
   "version": "3.7.6"
  }
 },
 "nbformat": 4,
 "nbformat_minor": 4
}

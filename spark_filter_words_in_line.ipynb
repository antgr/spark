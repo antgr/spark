{
 "cells": [
  {
   "cell_type": "code",
   "execution_count": 1,
   "metadata": {},
   "outputs": [],
   "source": [
    "from pyspark.sql import SparkSession\n",
    "\n",
    "spark = SparkSession \\\n",
    "    .builder \\\n",
    "    .appName(\"App_SC\") \\\n",
    "    .getOrCreate()"
   ]
  },
  {
   "cell_type": "code",
   "execution_count": 6,
   "metadata": {},
   "outputs": [],
   "source": [
    "df=spark.read.text('/var/log/messages')"
   ]
  },
  {
   "cell_type": "code",
   "execution_count": 7,
   "metadata": {},
   "outputs": [
    {
     "data": {
      "text/plain": [
       "pyspark.sql.dataframe.DataFrame"
      ]
     },
     "execution_count": 7,
     "metadata": {},
     "output_type": "execute_result"
    }
   ],
   "source": [
    "type(df)"
   ]
  },
  {
   "cell_type": "code",
   "execution_count": 8,
   "metadata": {},
   "outputs": [
    {
     "data": {
      "text/plain": [
       "17"
      ]
     },
     "execution_count": 8,
     "metadata": {},
     "output_type": "execute_result"
    }
   ],
   "source": [
    "df.count()"
   ]
  },
  {
   "cell_type": "code",
   "execution_count": 10,
   "metadata": {},
   "outputs": [
    {
     "name": "stdout",
     "output_type": "stream",
     "text": [
      "+--------------------+\n",
      "|               value|\n",
      "+--------------------+\n",
      "|Jul 19 03:15:01 i...|\n",
      "|Jul 19 03:15:01 i...|\n",
      "|Jul 19 03:15:16 i...|\n",
      "|Jul 19 03:15:16 i...|\n",
      "|Jul 20 02:52:28 i...|\n",
      "|Jul 20 03:22:02 i...|\n",
      "|Jul 20 03:45:08 i...|\n",
      "|Jul 20 03:45:08 i...|\n",
      "|Jul 21 01:34:01 i...|\n",
      "|Jul 21 03:21:01 i...|\n",
      "|Jul 21 03:45:08 i...|\n",
      "|Jul 21 03:45:08 i...|\n",
      "|Jul 21 19:00:01 i...|\n",
      "|Jul 22 03:12:01 i...|\n",
      "|Jul 22 03:15:08 i...|\n",
      "|Jul 22 03:15:09 i...|\n",
      "|Jul 22 03:37:00 i...|\n",
      "+--------------------+\n",
      "\n"
     ]
    }
   ],
   "source": [
    "df.show()"
   ]
  },
  {
   "cell_type": "code",
   "execution_count": 15,
   "metadata": {},
   "outputs": [],
   "source": [
    "list_new=df.collect()"
   ]
  },
  {
   "cell_type": "code",
   "execution_count": 16,
   "metadata": {},
   "outputs": [
    {
     "data": {
      "text/plain": [
       "list"
      ]
     },
     "execution_count": 16,
     "metadata": {},
     "output_type": "execute_result"
    }
   ],
   "source": [
    "type(list_new)"
   ]
  },
  {
   "cell_type": "code",
   "execution_count": 17,
   "metadata": {},
   "outputs": [
    {
     "data": {
      "text/plain": [
       "[Row(value='Jul 19 03:15:01 informix-test-01 rsyslogd:  [origin software=\"rsyslogd\" swVersion=\"8.24.0-52.el7\" x-pid=\"20012\" x-info=\"http://www.rsyslog.com\"] rsyslogd was HUPed'),\n",
       " Row(value='Jul 19 03:15:01 informix-test-01 rhsmd: rhsmd process exceeded runtime and was killed.'),\n",
       " Row(value=\"Jul 19 03:15:16 informix-test-01 dbus[7972]: [system] Activating service name='com.redhat.SubscriptionManager' (using servicehelper)\"),\n",
       " Row(value=\"Jul 19 03:15:16 informix-test-01 dbus[7972]: [system] Successfully activated service 'com.redhat.SubscriptionManager'\"),\n",
       " Row(value='Jul 20 02:52:28 informix-test-01 kernel: [2982504.861309] blk_update_request: I/O error, dev fd0, sector 0'),\n",
       " Row(value='Jul 20 03:22:02 informix-test-01 rhsmd: rhsmd process exceeded runtime and was killed.'),\n",
       " Row(value=\"Jul 20 03:45:08 informix-test-01 dbus[7972]: [system] Activating service name='com.redhat.SubscriptionManager' (using servicehelper)\"),\n",
       " Row(value=\"Jul 20 03:45:08 informix-test-01 dbus[7972]: [system] Successfully activated service 'com.redhat.SubscriptionManager'\"),\n",
       " Row(value='Jul 21 01:34:01 informix-test-01 kernel: [3064197.374495] blk_update_request: I/O error, dev fd0, sector 0'),\n",
       " Row(value='Jul 21 03:21:01 informix-test-01 rhsmd: rhsmd process exceeded runtime and was killed.'),\n",
       " Row(value=\"Jul 21 03:45:08 informix-test-01 dbus[7972]: [system] Activating service name='com.redhat.SubscriptionManager' (using servicehelper)\"),\n",
       " Row(value=\"Jul 21 03:45:08 informix-test-01 dbus[7972]: [system] Successfully activated service 'com.redhat.SubscriptionManager'\"),\n",
       " Row(value='Jul 21 19:00:01 informix-test-01 auditd[9987]: Audit daemon rotating log files'),\n",
       " Row(value='Jul 22 03:12:01 informix-test-01 rhsmd: rhsmd process exceeded runtime and was killed.'),\n",
       " Row(value=\"Jul 22 03:15:08 informix-test-01 dbus[7972]: [system] Activating service name='com.redhat.SubscriptionManager' (using servicehelper)\"),\n",
       " Row(value=\"Jul 22 03:15:09 informix-test-01 dbus[7972]: [system] Successfully activated service 'com.redhat.SubscriptionManager'\"),\n",
       " Row(value='Jul 22 03:37:00 informix-test-01 kernel: [3157976.041485] blk_update_request: I/O error, dev fd0, sector 0')]"
      ]
     },
     "execution_count": 17,
     "metadata": {},
     "output_type": "execute_result"
    }
   ],
   "source": [
    "list_new"
   ]
  },
  {
   "cell_type": "code",
   "execution_count": 18,
   "metadata": {},
   "outputs": [
    {
     "name": "stdout",
     "output_type": "stream",
     "text": [
      "Row(value='Jul 19 03:15:01 informix-test-01 rsyslogd:  [origin software=\"rsyslogd\" swVersion=\"8.24.0-52.el7\" x-pid=\"20012\" x-info=\"http://www.rsyslog.com\"] rsyslogd was HUPed')\n",
      "Row(value='Jul 19 03:15:01 informix-test-01 rhsmd: rhsmd process exceeded runtime and was killed.')\n",
      "Row(value=\"Jul 19 03:15:16 informix-test-01 dbus[7972]: [system] Activating service name='com.redhat.SubscriptionManager' (using servicehelper)\")\n",
      "Row(value=\"Jul 19 03:15:16 informix-test-01 dbus[7972]: [system] Successfully activated service 'com.redhat.SubscriptionManager'\")\n",
      "Row(value='Jul 20 02:52:28 informix-test-01 kernel: [2982504.861309] blk_update_request: I/O error, dev fd0, sector 0')\n",
      "Row(value='Jul 20 03:22:02 informix-test-01 rhsmd: rhsmd process exceeded runtime and was killed.')\n",
      "Row(value=\"Jul 20 03:45:08 informix-test-01 dbus[7972]: [system] Activating service name='com.redhat.SubscriptionManager' (using servicehelper)\")\n",
      "Row(value=\"Jul 20 03:45:08 informix-test-01 dbus[7972]: [system] Successfully activated service 'com.redhat.SubscriptionManager'\")\n",
      "Row(value='Jul 21 01:34:01 informix-test-01 kernel: [3064197.374495] blk_update_request: I/O error, dev fd0, sector 0')\n",
      "Row(value='Jul 21 03:21:01 informix-test-01 rhsmd: rhsmd process exceeded runtime and was killed.')\n",
      "Row(value=\"Jul 21 03:45:08 informix-test-01 dbus[7972]: [system] Activating service name='com.redhat.SubscriptionManager' (using servicehelper)\")\n",
      "Row(value=\"Jul 21 03:45:08 informix-test-01 dbus[7972]: [system] Successfully activated service 'com.redhat.SubscriptionManager'\")\n",
      "Row(value='Jul 21 19:00:01 informix-test-01 auditd[9987]: Audit daemon rotating log files')\n",
      "Row(value='Jul 22 03:12:01 informix-test-01 rhsmd: rhsmd process exceeded runtime and was killed.')\n",
      "Row(value=\"Jul 22 03:15:08 informix-test-01 dbus[7972]: [system] Activating service name='com.redhat.SubscriptionManager' (using servicehelper)\")\n",
      "Row(value=\"Jul 22 03:15:09 informix-test-01 dbus[7972]: [system] Successfully activated service 'com.redhat.SubscriptionManager'\")\n",
      "Row(value='Jul 22 03:37:00 informix-test-01 kernel: [3157976.041485] blk_update_request: I/O error, dev fd0, sector 0')\n"
     ]
    }
   ],
   "source": [
    "for line in list_new:\n",
    "    print (line)"
   ]
  },
  {
   "cell_type": "code",
   "execution_count": 42,
   "metadata": {},
   "outputs": [],
   "source": [
    "#df_onlyerror= df.filter(lambda line: \"error\" in line)\n",
    "test_list = [\"error\",\"kernel\"]\n",
    "#lambda x: any(word in x.text for word in test_list\n",
    "df_onlyerror= df.rdd.filter(lambda x: any(word in x.text for word in test_list))\n"
   ]
  },
  {
   "cell_type": "code",
   "execution_count": 43,
   "metadata": {},
   "outputs": [
    {
     "data": {
      "text/plain": [
       "pyspark.rdd.PipelinedRDD"
      ]
     },
     "execution_count": 43,
     "metadata": {},
     "output_type": "execute_result"
    }
   ],
   "source": [
    "type(df_onlyerror)"
   ]
  },
  {
   "cell_type": "code",
   "execution_count": 50,
   "metadata": {},
   "outputs": [
    {
     "data": {
      "text/plain": [
       "pyspark.sql.dataframe.DataFrame"
      ]
     },
     "execution_count": 50,
     "metadata": {},
     "output_type": "execute_result"
    }
   ],
   "source": [
    "#import pyspark.sql.functions as psf\n",
    "\n",
    "\n",
    "df.createOrReplaceTempView('spark_df')\n",
    "sql_out = spark.sql(\"select * from  spark_df where value like '%kernel%'\")\n",
    "type(sql_out)"
   ]
  },
  {
   "cell_type": "code",
   "execution_count": 51,
   "metadata": {},
   "outputs": [
    {
     "data": {
      "text/plain": [
       "[Row(value='Jul 20 02:52:28 informix-test-01 kernel: [2982504.861309] blk_update_request: I/O error, dev fd0, sector 0'),\n",
       " Row(value='Jul 21 01:34:01 informix-test-01 kernel: [3064197.374495] blk_update_request: I/O error, dev fd0, sector 0'),\n",
       " Row(value='Jul 22 03:37:00 informix-test-01 kernel: [3157976.041485] blk_update_request: I/O error, dev fd0, sector 0')]"
      ]
     },
     "execution_count": 51,
     "metadata": {},
     "output_type": "execute_result"
    }
   ],
   "source": [
    "sql_out.collect()"
   ]
  },
  {
   "cell_type": "code",
   "execution_count": null,
   "metadata": {},
   "outputs": [],
   "source": []
  }
 ],
 "metadata": {
  "kernelspec": {
   "display_name": "Python 3",
   "language": "python",
   "name": "python3"
  },
  "language_info": {
   "codemirror_mode": {
    "name": "ipython",
    "version": 3
   },
   "file_extension": ".py",
   "mimetype": "text/x-python",
   "name": "python",
   "nbconvert_exporter": "python",
   "pygments_lexer": "ipython3",
   "version": "3.7.6"
  }
 },
 "nbformat": 4,
 "nbformat_minor": 4
}

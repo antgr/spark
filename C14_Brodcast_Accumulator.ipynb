{
 "cells": [
  {
   "cell_type": "markdown",
   "metadata": {},
   "source": [
    "# C14 DIstributed Variable and Accumulator "
   ]
  },
  {
   "cell_type": "code",
   "execution_count": 1,
   "metadata": {},
   "outputs": [
    {
     "name": "stdout",
     "output_type": "stream",
     "text": [
      "tcp6       0      0 :::4040                 :::*                    LISTEN      4324/java           \r\n",
      "tcp6       0      0 ::1:4040                ::1:50400               TIME_WAIT   -                   \r\n",
      "tcp6       0      0 ::1:4040                ::1:50390               TIME_WAIT   -                   \r\n",
      "tcp6       0      0 ::1:4040                ::1:50398               TIME_WAIT   -                   \r\n",
      "tcp6       0      0 ::1:4040                ::1:50394               TIME_WAIT   -                   \r\n",
      "tcp6       0      0 ::1:4040                ::1:50386               TIME_WAIT   -                   \r\n",
      "tcp6       0      0 ::1:4040                ::1:50396               TIME_WAIT   -                   \r\n"
     ]
    }
   ],
   "source": [
    "from pyspark.sql import SparkSession\n",
    "spark = SparkSession.builder.appName(\"c14\").getOrCreate()\n",
    "!netstat -anp |grep 4040 "
   ]
  },
  {
   "cell_type": "code",
   "execution_count": 2,
   "metadata": {},
   "outputs": [
    {
     "data": {
      "text/plain": [
       "dict"
      ]
     },
     "execution_count": 2,
     "metadata": {},
     "output_type": "execute_result"
    }
   ],
   "source": [
    "# BROADCAST Variables \n",
    "\n",
    "supplement_data = {\n",
    "\"Spark\" : 1000,\n",
    "\"Definitive\" : 200,\n",
    "\"Big\" : -300,\n",
    "\"Simple\" : 100\n",
    "  \n",
    "}\n",
    "type(supplement_data)"
   ]
  },
  {
   "cell_type": "code",
   "execution_count": 3,
   "metadata": {},
   "outputs": [],
   "source": [
    "suppBroadcast = spark.sparkContext.broadcast(supplement_data)"
   ]
  },
  {
   "cell_type": "code",
   "execution_count": 4,
   "metadata": {},
   "outputs": [
    {
     "data": {
      "text/plain": [
       "{'Spark': 1000, 'Definitive': 200, 'Big': -300, 'Simple': 100}"
      ]
     },
     "execution_count": 4,
     "metadata": {},
     "output_type": "execute_result"
    }
   ],
   "source": [
    "suppBroadcast.value"
   ]
  },
  {
   "cell_type": "code",
   "execution_count": 5,
   "metadata": {},
   "outputs": [
    {
     "data": {
      "text/plain": [
       "[('Big', -300),\n",
       " ('The', 0),\n",
       " ('Guide', 0),\n",
       " (':', 0),\n",
       " ('Data', 0),\n",
       " ('Processing', 0),\n",
       " ('Made', 0),\n",
       " ('Simple', 100),\n",
       " ('Definitive', 200),\n",
       " ('Spark', 1000)]"
      ]
     },
     "execution_count": 5,
     "metadata": {},
     "output_type": "execute_result"
    }
   ],
   "source": [
    "#words.map( lambda word: (word, suppBroadcast.value.get( word, 0)))\\ .sortBy( lambda wordPair: wordPair[ 1])\\ .collect()\n",
    "\n",
    "my_collection = \"Spark The Definitive Guide : Big Data Processing Made Simple\"\\\n",
    ".split(\" \") \n",
    "\n",
    "words = spark.sparkContext.parallelize( my_collection, 2)\n",
    "words.collect()\n",
    "\n",
    "words.map( lambda word: (word, suppBroadcast.value.get( word, 0)))\\\n",
    ".sortBy( lambda x: x[1])\\\n",
    ".collect()\n"
   ]
  },
  {
   "cell_type": "code",
   "execution_count": null,
   "metadata": {},
   "outputs": [],
   "source": []
  },
  {
   "cell_type": "code",
   "execution_count": 6,
   "metadata": {},
   "outputs": [],
   "source": [
    "# Accumulator Variable \n",
    "\n",
    "#suppBroadcast = spark.sparkContext.broadcast(supplement_data)\n",
    "#Get the data  --> suppBroadcast.value \n",
    "var_acc = spark.sparkContext.accumulator(0)\n",
    "\n"
   ]
  },
  {
   "cell_type": "code",
   "execution_count": 14,
   "metadata": {},
   "outputs": [
    {
     "name": "stdout",
     "output_type": "stream",
     "text": [
      "+-----------------+-------------------+-----+\n",
      "|DEST_COUNTRY_NAME|ORIGIN_COUNTRY_NAME|count|\n",
      "+-----------------+-------------------+-----+\n",
      "|    United States|            Romania|    1|\n",
      "|    United States|            Ireland|  264|\n",
      "+-----------------+-------------------+-----+\n",
      "only showing top 2 rows\n",
      "\n",
      "+-----------------+-------------------+-----+\n",
      "|DEST_COUNTRY_NAME|ORIGIN_COUNTRY_NAME|count|\n",
      "+-----------------+-------------------+-----+\n",
      "|            China|      United States|  448|\n",
      "+-----------------+-------------------+-----+\n",
      "\n"
     ]
    }
   ],
   "source": [
    "#/root/golive/Spark-The-Definitive-Guide/data/flight-data/parquet/2010-summary.parquet\n",
    "from pyspark.sql.functions import col\n",
    "flights = spark.read.format(\"parquet\")\\\n",
    "                    .option(\"path\", \"/root/golive/Spark-The-Definitive-Guide/data/flight-data/parquet/2010-summary.parquet\")\\\n",
    "                    .load()\n",
    "\n",
    "flights.show(2)\n",
    "flights.select(\"*\")\\\n",
    ".where(col(\"DEST_COUNTRY_NAME\") == \"China\")\\\n",
    ".show()"
   ]
  },
  {
   "cell_type": "code",
   "execution_count": 15,
   "metadata": {},
   "outputs": [],
   "source": [
    "def check_china(flight_row):\n",
    "    dest = flight_row[\"DEST_COUNTRY_NAME\"]\n",
    "    orig = flight_row[\"ORIGIN_COUNTRY_NAME\"]\n",
    "    if dest == \"China\":\n",
    "        var_acc.add(flight_row[\"count\"])\n",
    "        \n",
    "    if orig  == \"China\":\n",
    "        var_acc.add(flight_row[\"count\"])"
   ]
  },
  {
   "cell_type": "code",
   "execution_count": 17,
   "metadata": {},
   "outputs": [
    {
     "data": {
      "text/plain": [
       "953"
      ]
     },
     "execution_count": 17,
     "metadata": {},
     "output_type": "execute_result"
    }
   ],
   "source": [
    "flights.foreach(lambda flight_row: check_china(flight_row))\n",
    "\n",
    "var_acc.value"
   ]
  },
  {
   "cell_type": "code",
   "execution_count": null,
   "metadata": {},
   "outputs": [],
   "source": []
  }
 ],
 "metadata": {
  "kernelspec": {
   "display_name": "Python 3",
   "language": "python",
   "name": "python3"
  },
  "language_info": {
   "codemirror_mode": {
    "name": "ipython",
    "version": 3
   },
   "file_extension": ".py",
   "mimetype": "text/x-python",
   "name": "python",
   "nbconvert_exporter": "python",
   "pygments_lexer": "ipython3",
   "version": "3.7.6"
  }
 },
 "nbformat": 4,
 "nbformat_minor": 4
}
